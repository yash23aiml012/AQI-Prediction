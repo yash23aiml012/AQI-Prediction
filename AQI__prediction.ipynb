{
  "nbformat": 4,
  "nbformat_minor": 0,
  "metadata": {
    "colab": {
      "provenance": []
    },
    "kernelspec": {
      "name": "python3",
      "display_name": "Python 3"
    },
    "language_info": {
      "name": "python"
    }
  },
  "cells": [
    {
      "cell_type": "code",
      "execution_count": null,
      "metadata": {
        "id": "6PWMgNIPKhiw"
      },
      "outputs": [],
      "source": []
    },
    {
      "cell_type": "code",
      "source": [
        "import numpy as np\n",
        "import pandas as pd"
      ],
      "metadata": {
        "id": "HruRdt2ZKsMh"
      },
      "execution_count": null,
      "outputs": []
    },
    {
      "cell_type": "code",
      "source": [
        "# loading the data from csv file to pandas dataframe\n",
        "air_quality_data = pd.read_csv('/content/AirQualityUCI.csv')"
      ],
      "metadata": {
        "id": "Ykv2d4AwLMDK",
        "colab": {
          "base_uri": "https://localhost:8080/",
          "height": 316
        },
        "outputId": "4fca3dc3-e60d-4a28-81ed-147c1f871576"
      },
      "execution_count": null,
      "outputs": [
        {
          "output_type": "error",
          "ename": "FileNotFoundError",
          "evalue": "[Errno 2] No such file or directory: '/content/AirQualityUCI.csv'",
          "traceback": [
            "\u001b[0;31m---------------------------------------------------------------------------\u001b[0m",
            "\u001b[0;31mFileNotFoundError\u001b[0m                         Traceback (most recent call last)",
            "\u001b[0;32m<ipython-input-7-c3f5749e41d3>\u001b[0m in \u001b[0;36m<cell line: 0>\u001b[0;34m()\u001b[0m\n\u001b[1;32m      1\u001b[0m \u001b[0;31m# loading the data from csv file to pandas dataframe\u001b[0m\u001b[0;34m\u001b[0m\u001b[0;34m\u001b[0m\u001b[0m\n\u001b[0;32m----> 2\u001b[0;31m \u001b[0mair_quality_data\u001b[0m \u001b[0;34m=\u001b[0m \u001b[0mpd\u001b[0m\u001b[0;34m.\u001b[0m\u001b[0mread_csv\u001b[0m\u001b[0;34m(\u001b[0m\u001b[0;34m'/content/AirQualityUCI.csv'\u001b[0m\u001b[0;34m)\u001b[0m\u001b[0;34m\u001b[0m\u001b[0;34m\u001b[0m\u001b[0m\n\u001b[0m",
            "\u001b[0;32m/usr/local/lib/python3.11/dist-packages/pandas/io/parsers/readers.py\u001b[0m in \u001b[0;36mread_csv\u001b[0;34m(filepath_or_buffer, sep, delimiter, header, names, index_col, usecols, dtype, engine, converters, true_values, false_values, skipinitialspace, skiprows, skipfooter, nrows, na_values, keep_default_na, na_filter, verbose, skip_blank_lines, parse_dates, infer_datetime_format, keep_date_col, date_parser, date_format, dayfirst, cache_dates, iterator, chunksize, compression, thousands, decimal, lineterminator, quotechar, quoting, doublequote, escapechar, comment, encoding, encoding_errors, dialect, on_bad_lines, delim_whitespace, low_memory, memory_map, float_precision, storage_options, dtype_backend)\u001b[0m\n\u001b[1;32m   1024\u001b[0m     \u001b[0mkwds\u001b[0m\u001b[0;34m.\u001b[0m\u001b[0mupdate\u001b[0m\u001b[0;34m(\u001b[0m\u001b[0mkwds_defaults\u001b[0m\u001b[0;34m)\u001b[0m\u001b[0;34m\u001b[0m\u001b[0;34m\u001b[0m\u001b[0m\n\u001b[1;32m   1025\u001b[0m \u001b[0;34m\u001b[0m\u001b[0m\n\u001b[0;32m-> 1026\u001b[0;31m     \u001b[0;32mreturn\u001b[0m \u001b[0m_read\u001b[0m\u001b[0;34m(\u001b[0m\u001b[0mfilepath_or_buffer\u001b[0m\u001b[0;34m,\u001b[0m \u001b[0mkwds\u001b[0m\u001b[0;34m)\u001b[0m\u001b[0;34m\u001b[0m\u001b[0;34m\u001b[0m\u001b[0m\n\u001b[0m\u001b[1;32m   1027\u001b[0m \u001b[0;34m\u001b[0m\u001b[0m\n\u001b[1;32m   1028\u001b[0m \u001b[0;34m\u001b[0m\u001b[0m\n",
            "\u001b[0;32m/usr/local/lib/python3.11/dist-packages/pandas/io/parsers/readers.py\u001b[0m in \u001b[0;36m_read\u001b[0;34m(filepath_or_buffer, kwds)\u001b[0m\n\u001b[1;32m    618\u001b[0m \u001b[0;34m\u001b[0m\u001b[0m\n\u001b[1;32m    619\u001b[0m     \u001b[0;31m# Create the parser.\u001b[0m\u001b[0;34m\u001b[0m\u001b[0;34m\u001b[0m\u001b[0m\n\u001b[0;32m--> 620\u001b[0;31m     \u001b[0mparser\u001b[0m \u001b[0;34m=\u001b[0m \u001b[0mTextFileReader\u001b[0m\u001b[0;34m(\u001b[0m\u001b[0mfilepath_or_buffer\u001b[0m\u001b[0;34m,\u001b[0m \u001b[0;34m**\u001b[0m\u001b[0mkwds\u001b[0m\u001b[0;34m)\u001b[0m\u001b[0;34m\u001b[0m\u001b[0;34m\u001b[0m\u001b[0m\n\u001b[0m\u001b[1;32m    621\u001b[0m \u001b[0;34m\u001b[0m\u001b[0m\n\u001b[1;32m    622\u001b[0m     \u001b[0;32mif\u001b[0m \u001b[0mchunksize\u001b[0m \u001b[0;32mor\u001b[0m \u001b[0miterator\u001b[0m\u001b[0;34m:\u001b[0m\u001b[0;34m\u001b[0m\u001b[0;34m\u001b[0m\u001b[0m\n",
            "\u001b[0;32m/usr/local/lib/python3.11/dist-packages/pandas/io/parsers/readers.py\u001b[0m in \u001b[0;36m__init__\u001b[0;34m(self, f, engine, **kwds)\u001b[0m\n\u001b[1;32m   1618\u001b[0m \u001b[0;34m\u001b[0m\u001b[0m\n\u001b[1;32m   1619\u001b[0m         \u001b[0mself\u001b[0m\u001b[0;34m.\u001b[0m\u001b[0mhandles\u001b[0m\u001b[0;34m:\u001b[0m \u001b[0mIOHandles\u001b[0m \u001b[0;34m|\u001b[0m \u001b[0;32mNone\u001b[0m \u001b[0;34m=\u001b[0m \u001b[0;32mNone\u001b[0m\u001b[0;34m\u001b[0m\u001b[0;34m\u001b[0m\u001b[0m\n\u001b[0;32m-> 1620\u001b[0;31m         \u001b[0mself\u001b[0m\u001b[0;34m.\u001b[0m\u001b[0m_engine\u001b[0m \u001b[0;34m=\u001b[0m \u001b[0mself\u001b[0m\u001b[0;34m.\u001b[0m\u001b[0m_make_engine\u001b[0m\u001b[0;34m(\u001b[0m\u001b[0mf\u001b[0m\u001b[0;34m,\u001b[0m \u001b[0mself\u001b[0m\u001b[0;34m.\u001b[0m\u001b[0mengine\u001b[0m\u001b[0;34m)\u001b[0m\u001b[0;34m\u001b[0m\u001b[0;34m\u001b[0m\u001b[0m\n\u001b[0m\u001b[1;32m   1621\u001b[0m \u001b[0;34m\u001b[0m\u001b[0m\n\u001b[1;32m   1622\u001b[0m     \u001b[0;32mdef\u001b[0m \u001b[0mclose\u001b[0m\u001b[0;34m(\u001b[0m\u001b[0mself\u001b[0m\u001b[0;34m)\u001b[0m \u001b[0;34m->\u001b[0m \u001b[0;32mNone\u001b[0m\u001b[0;34m:\u001b[0m\u001b[0;34m\u001b[0m\u001b[0;34m\u001b[0m\u001b[0m\n",
            "\u001b[0;32m/usr/local/lib/python3.11/dist-packages/pandas/io/parsers/readers.py\u001b[0m in \u001b[0;36m_make_engine\u001b[0;34m(self, f, engine)\u001b[0m\n\u001b[1;32m   1878\u001b[0m                 \u001b[0;32mif\u001b[0m \u001b[0;34m\"b\"\u001b[0m \u001b[0;32mnot\u001b[0m \u001b[0;32min\u001b[0m \u001b[0mmode\u001b[0m\u001b[0;34m:\u001b[0m\u001b[0;34m\u001b[0m\u001b[0;34m\u001b[0m\u001b[0m\n\u001b[1;32m   1879\u001b[0m                     \u001b[0mmode\u001b[0m \u001b[0;34m+=\u001b[0m \u001b[0;34m\"b\"\u001b[0m\u001b[0;34m\u001b[0m\u001b[0;34m\u001b[0m\u001b[0m\n\u001b[0;32m-> 1880\u001b[0;31m             self.handles = get_handle(\n\u001b[0m\u001b[1;32m   1881\u001b[0m                 \u001b[0mf\u001b[0m\u001b[0;34m,\u001b[0m\u001b[0;34m\u001b[0m\u001b[0;34m\u001b[0m\u001b[0m\n\u001b[1;32m   1882\u001b[0m                 \u001b[0mmode\u001b[0m\u001b[0;34m,\u001b[0m\u001b[0;34m\u001b[0m\u001b[0;34m\u001b[0m\u001b[0m\n",
            "\u001b[0;32m/usr/local/lib/python3.11/dist-packages/pandas/io/common.py\u001b[0m in \u001b[0;36mget_handle\u001b[0;34m(path_or_buf, mode, encoding, compression, memory_map, is_text, errors, storage_options)\u001b[0m\n\u001b[1;32m    871\u001b[0m         \u001b[0;32mif\u001b[0m \u001b[0mioargs\u001b[0m\u001b[0;34m.\u001b[0m\u001b[0mencoding\u001b[0m \u001b[0;32mand\u001b[0m \u001b[0;34m\"b\"\u001b[0m \u001b[0;32mnot\u001b[0m \u001b[0;32min\u001b[0m \u001b[0mioargs\u001b[0m\u001b[0;34m.\u001b[0m\u001b[0mmode\u001b[0m\u001b[0;34m:\u001b[0m\u001b[0;34m\u001b[0m\u001b[0;34m\u001b[0m\u001b[0m\n\u001b[1;32m    872\u001b[0m             \u001b[0;31m# Encoding\u001b[0m\u001b[0;34m\u001b[0m\u001b[0;34m\u001b[0m\u001b[0m\n\u001b[0;32m--> 873\u001b[0;31m             handle = open(\n\u001b[0m\u001b[1;32m    874\u001b[0m                 \u001b[0mhandle\u001b[0m\u001b[0;34m,\u001b[0m\u001b[0;34m\u001b[0m\u001b[0;34m\u001b[0m\u001b[0m\n\u001b[1;32m    875\u001b[0m                 \u001b[0mioargs\u001b[0m\u001b[0;34m.\u001b[0m\u001b[0mmode\u001b[0m\u001b[0;34m,\u001b[0m\u001b[0;34m\u001b[0m\u001b[0;34m\u001b[0m\u001b[0m\n",
            "\u001b[0;31mFileNotFoundError\u001b[0m: [Errno 2] No such file or directory: '/content/AirQualityUCI.csv'"
          ]
        }
      ]
    },
    {
      "cell_type": "code",
      "source": [
        "# Printing the first file rows of data frame\n",
        "air_quality_data.head()"
      ],
      "metadata": {
        "id": "VvbtiS61LeqU"
      },
      "execution_count": null,
      "outputs": []
    },
    {
      "cell_type": "markdown",
      "source": [
        "All The values in th csv file are seperated by';'\n",
        "Few columns have comma in the place of decimal point"
      ],
      "metadata": {
        "id": "h0hFW5UyM0cW"
      }
    },
    {
      "cell_type": "code",
      "source": [
        "#Seperate with ;\n",
        "air_quality_data = pd.read_csv('/content/AirQualityUCI.csv', sep=';',decimal=',')"
      ],
      "metadata": {
        "id": "Bdr32sfRL8Ye"
      },
      "execution_count": null,
      "outputs": []
    },
    {
      "cell_type": "code",
      "source": [
        "air_quality_data.head()"
      ],
      "metadata": {
        "id": "HcXJwDuWMFYy"
      },
      "execution_count": null,
      "outputs": []
    },
    {
      "cell_type": "code",
      "source": [
        "#removing the last 2 columns from the data frame\n",
        "air_quality_data = air_quality_data.iloc[:,:-2]"
      ],
      "metadata": {
        "id": "SlZLCbUMMLcT"
      },
      "execution_count": null,
      "outputs": []
    },
    {
      "cell_type": "code",
      "source": [
        "air_quality_data.head()"
      ],
      "metadata": {
        "id": "pIMQCXEsNdeL"
      },
      "execution_count": null,
      "outputs": []
    },
    {
      "cell_type": "code",
      "source": [
        "#Last 5 rows\n",
        "air_quality_data.tail()"
      ],
      "metadata": {
        "id": "MGnI7qZ-NkZb"
      },
      "execution_count": null,
      "outputs": []
    },
    {
      "cell_type": "code",
      "source": [
        "air_quality_data.shape"
      ],
      "metadata": {
        "id": "nylOMhK1NxfX"
      },
      "execution_count": null,
      "outputs": []
    },
    {
      "cell_type": "code",
      "source": [
        "air_quality_data.loc[[9356]]"
      ],
      "metadata": {
        "id": "SrPNQRveN-SQ"
      },
      "execution_count": null,
      "outputs": []
    },
    {
      "cell_type": "markdown",
      "source": [
        "9356 represents the last data point int the dataframe & remaining rows are just null values\n",
        "\n",
        "index = 9356\n",
        "rows = 9357th row\n",
        "\n",
        "Take the first 9357 rows alone from the dataframe"
      ],
      "metadata": {
        "id": "hNzO65w2OvtI"
      }
    },
    {
      "cell_type": "code",
      "source": [
        "air_quality_data = air_quality_data.head(9357)"
      ],
      "metadata": {
        "id": "AieAW9A0Oqpq"
      },
      "execution_count": null,
      "outputs": []
    },
    {
      "cell_type": "code",
      "source": [
        "air_quality_data.tail()"
      ],
      "metadata": {
        "id": "EVFaUAUOPTJs"
      },
      "execution_count": null,
      "outputs": []
    },
    {
      "cell_type": "code",
      "source": [
        "air_quality_data.shape"
      ],
      "metadata": {
        "id": "RH6xhEWZPWW5"
      },
      "execution_count": null,
      "outputs": []
    },
    {
      "cell_type": "code",
      "source": [
        "#Getting some info about the dataset\n",
        "air_quality_data.info()"
      ],
      "metadata": {
        "id": "l7m158GEP9T9"
      },
      "execution_count": null,
      "outputs": []
    },
    {
      "cell_type": "code",
      "source": [
        "#Checking the number of missing values in the dataframe\n",
        "air_quality_data.isnull().sum()"
      ],
      "metadata": {
        "id": "23fimLSIQMDK"
      },
      "execution_count": null,
      "outputs": []
    },
    {
      "cell_type": "markdown",
      "source": [
        "This shows that there are no missing values in the dataframe. But the actual missing values are tagged with the value \"-200\"\n",
        "\n",
        "This is described in UCI repository documantation"
      ],
      "metadata": {
        "id": "RJueyGQFQyYL"
      }
    },
    {
      "cell_type": "code",
      "source": [
        "#Counting the number of times -200 appears in the data\n",
        "air_quality_data.isin([-200]).sum(axis=0)"
      ],
      "metadata": {
        "id": "FUTmzNPXRCk6"
      },
      "execution_count": null,
      "outputs": []
    },
    {
      "cell_type": "markdown",
      "source": [
        "**Handling the Missing Values**"
      ],
      "metadata": {
        "id": "jAt639ysRu9-"
      }
    },
    {
      "cell_type": "markdown",
      "source": [
        "Convert all -200 to NaN"
      ],
      "metadata": {
        "id": "sZszn8iCSFtD"
      }
    },
    {
      "cell_type": "markdown",
      "source": [
        "Replace all NaN values the mean of that specific columns"
      ],
      "metadata": {
        "id": "n_Bndl_ISJzd"
      }
    },
    {
      "cell_type": "code",
      "source": [
        "air_quality_data = air_quality_data.replace(to_replace=-200,value = np.NaN)"
      ],
      "metadata": {
        "id": "DWmm0VtERlMJ"
      },
      "execution_count": null,
      "outputs": []
    },
    {
      "cell_type": "code",
      "source": [
        "air_quality_data.isnull().sum()"
      ],
      "metadata": {
        "id": "9875wElkSeS6"
      },
      "execution_count": null,
      "outputs": []
    },
    {
      "cell_type": "markdown",
      "source": [
        "This shows the actual number of missing values"
      ],
      "metadata": {
        "id": "VKcEiTT0SmkF"
      }
    },
    {
      "cell_type": "code",
      "source": [
        "air_quality_data.tail()"
      ],
      "metadata": {
        "id": "jCdU0XvmSk7c"
      },
      "execution_count": null,
      "outputs": []
    },
    {
      "source": [
        "# Calculate the mean for only numeric columns.\n",
        "air_quality_data.select_dtypes(include=np.number).mean()"
      ],
      "cell_type": "code",
      "metadata": {
        "id": "WQ4ioZpSTDrt"
      },
      "execution_count": null,
      "outputs": []
    },
    {
      "source": [
        "#Replacing the missing values with mean value of each column\n",
        "#Exclude 'Date' and 'Time' columns when calculating the mean\n",
        "numeric_columns = air_quality_data.select_dtypes(include=np.number).columns\n",
        "air_quality_data[numeric_columns] = air_quality_data[numeric_columns].fillna(air_quality_data[numeric_columns].mean())"
      ],
      "cell_type": "code",
      "metadata": {
        "id": "BKDtygiFTf8X"
      },
      "execution_count": null,
      "outputs": []
    },
    {
      "cell_type": "code",
      "source": [
        "air_quality_data.tail()"
      ],
      "metadata": {
        "id": "XRJnqLFxTkUD"
      },
      "execution_count": null,
      "outputs": []
    },
    {
      "cell_type": "code",
      "source": [
        "air_quality_data.isnull().sum()"
      ],
      "metadata": {
        "id": "sTMEVuYMTrCK"
      },
      "execution_count": null,
      "outputs": []
    },
    {
      "cell_type": "markdown",
      "source": [
        "Two Tasks can be performed on this dataframe\n",
        "\n",
        "1. Forecasting\n",
        "2. Regression"
      ],
      "metadata": {
        "id": "Zm_iunpkTvr1"
      }
    },
    {
      "cell_type": "markdown",
      "source": [
        "**Forecasting with FB Prophet Algorithm**"
      ],
      "metadata": {
        "id": "6UOQMlghXFUj"
      }
    },
    {
      "source": [
        "#Converting the date from DD/MM/YYYY to YYYY-MM-DD\n",
        "date_info = pd.to_datetime(air_quality_data['Date'], format='%d/%m/%Y')\n",
        "print(date_info)"
      ],
      "cell_type": "code",
      "metadata": {
        "id": "QGRw0XvcXkdn"
      },
      "execution_count": null,
      "outputs": []
    },
    {
      "cell_type": "code",
      "source": [
        "time_info = air_quality_data['Time']"
      ],
      "metadata": {
        "id": "vX-8PwtgYL5E"
      },
      "execution_count": null,
      "outputs": []
    },
    {
      "cell_type": "code",
      "source": [
        "time_info = time_info.apply(lambda x:x.replace('.',':'))"
      ],
      "metadata": {
        "id": "M6wBcjNyYS4w",
        "colab": {
          "base_uri": "https://localhost:8080/",
          "height": 139
        },
        "outputId": "860813e9-985a-4aab-fdce-ebe3e04316d6"
      },
      "execution_count": null,
      "outputs": [
        {
          "output_type": "error",
          "ename": "NameError",
          "evalue": "name 'time_info' is not defined",
          "traceback": [
            "\u001b[0;31m---------------------------------------------------------------------------\u001b[0m",
            "\u001b[0;31mNameError\u001b[0m                                 Traceback (most recent call last)",
            "\u001b[0;32m<ipython-input-6-716d5b5abd9d>\u001b[0m in \u001b[0;36m<cell line: 0>\u001b[0;34m()\u001b[0m\n\u001b[0;32m----> 1\u001b[0;31m \u001b[0mtime_info\u001b[0m \u001b[0;34m=\u001b[0m \u001b[0mtime_info\u001b[0m\u001b[0;34m.\u001b[0m\u001b[0mapply\u001b[0m\u001b[0;34m(\u001b[0m\u001b[0;32mlambda\u001b[0m \u001b[0mx\u001b[0m\u001b[0;34m:\u001b[0m\u001b[0mx\u001b[0m\u001b[0;34m.\u001b[0m\u001b[0mreplace\u001b[0m\u001b[0;34m(\u001b[0m\u001b[0;34m'.'\u001b[0m\u001b[0;34m,\u001b[0m\u001b[0;34m':'\u001b[0m\u001b[0;34m)\u001b[0m\u001b[0;34m)\u001b[0m\u001b[0;34m\u001b[0m\u001b[0;34m\u001b[0m\u001b[0m\n\u001b[0m",
            "\u001b[0;31mNameError\u001b[0m: name 'time_info' is not defined"
          ]
        }
      ]
    },
    {
      "cell_type": "code",
      "source": [
        "print(time_info)"
      ],
      "metadata": {
        "id": "O1tY9z4nYiN4"
      },
      "execution_count": null,
      "outputs": []
    },
    {
      "cell_type": "code",
      "source": [
        "print(type(date_info))\n",
        "print(type(time_info))"
      ],
      "metadata": {
        "id": "MqfwWn5LYmJX"
      },
      "execution_count": null,
      "outputs": []
    },
    {
      "cell_type": "code",
      "source": [
        "#Combining two series to a pandas dataframe\n",
        "date_time = pd.concat([date_info,time_info],axis=1)"
      ],
      "metadata": {
        "id": "cUL_RZusYyzB"
      },
      "execution_count": null,
      "outputs": []
    },
    {
      "cell_type": "code",
      "source": [
        "date_time.head()"
      ],
      "metadata": {
        "id": "dKrXuYgYZEzd"
      },
      "execution_count": null,
      "outputs": []
    },
    {
      "cell_type": "code",
      "source": [
        "date_time.shape"
      ],
      "metadata": {
        "id": "-npBKxFaZLOG"
      },
      "execution_count": null,
      "outputs": []
    },
    {
      "cell_type": "code",
      "source": [
        "#Combining date and time\n",
        "date_time['ds'] = date_time['Date'].astype(str) + ' ' + date_time['Time'].astype(str)"
      ],
      "metadata": {
        "id": "Dfbe3MMGZQBO"
      },
      "execution_count": null,
      "outputs": []
    },
    {
      "cell_type": "code",
      "source": [
        "date_time.head()"
      ],
      "metadata": {
        "id": "BxwapMqZZjlH"
      },
      "execution_count": null,
      "outputs": []
    },
    {
      "cell_type": "markdown",
      "source": [
        "We have to convert ds from object datatype to date time format"
      ],
      "metadata": {
        "id": "9xbBs_ynaG6R"
      }
    },
    {
      "cell_type": "code",
      "source": [
        "data = pd.DataFrame()"
      ],
      "metadata": {
        "id": "0r4ONgbKZoil"
      },
      "execution_count": null,
      "outputs": []
    },
    {
      "cell_type": "code",
      "source": [
        "data['ds'] = pd.to_datetime(date_time['ds'])"
      ],
      "metadata": {
        "id": "bjIyqN0eaWmy"
      },
      "execution_count": null,
      "outputs": []
    },
    {
      "cell_type": "code",
      "source": [
        "data.head()"
      ],
      "metadata": {
        "id": "ZHIyMjMAanUV"
      },
      "execution_count": null,
      "outputs": []
    },
    {
      "cell_type": "code",
      "source": [
        "data['y'] = air_quality_data['RH']"
      ],
      "metadata": {
        "id": "dHU2xIVKaqNr"
      },
      "execution_count": null,
      "outputs": []
    },
    {
      "cell_type": "code",
      "source": [
        "data.head()"
      ],
      "metadata": {
        "id": "FuLcVcUQbGky"
      },
      "execution_count": null,
      "outputs": []
    },
    {
      "cell_type": "code",
      "source": [
        "from prophet import Prophet"
      ],
      "metadata": {
        "id": "IP42KD-6bI1c"
      },
      "execution_count": null,
      "outputs": []
    },
    {
      "cell_type": "code",
      "source": [
        "#Training the Prophet model\n",
        "\n",
        "model = Prophet()\n",
        "model.fit(data)"
      ],
      "metadata": {
        "id": "KeA4YQKibR92"
      },
      "execution_count": null,
      "outputs": []
    },
    {
      "cell_type": "code",
      "source": [
        "future = model.make_future_dataframe(periods=365)\n",
        "future.head()"
      ],
      "metadata": {
        "id": "pG9N7rHDb1l-"
      },
      "execution_count": null,
      "outputs": []
    },
    {
      "cell_type": "code",
      "source": [
        "forecast = model.predict(future)\n",
        "forecast[['ds','yhat','yhat_lower','yhat_upper']].head()"
      ],
      "metadata": {
        "id": "UHKOXX4NcNCL"
      },
      "execution_count": null,
      "outputs": []
    },
    {
      "cell_type": "code",
      "source": [
        "fig1 = model.plot(forecast)"
      ],
      "metadata": {
        "id": "BVTVoCpXef3A"
      },
      "execution_count": null,
      "outputs": []
    },
    {
      "cell_type": "code",
      "source": [
        "fig2 = model.plot_components(forecast)"
      ],
      "metadata": {
        "id": "CMw-gIp-evtP"
      },
      "execution_count": null,
      "outputs": []
    },
    {
      "cell_type": "code",
      "source": [],
      "metadata": {
        "id": "N2is9Y5HfEnz"
      },
      "execution_count": null,
      "outputs": []
    }
  ]
}